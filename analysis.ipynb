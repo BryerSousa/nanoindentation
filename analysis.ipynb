{
 "cells": [
  {
   "cell_type": "code",
   "execution_count": 103,
   "metadata": {},
   "outputs": [
    {
     "name": "stdout",
     "output_type": "stream",
     "text": [
      "Using matplotlib backend: Qt5Agg\n"
     ]
    }
   ],
   "source": [
    "import matplotlib.pyplot as plt\n",
    "import numpy as np\n",
    "files = ['ColchAll_Bilayer.tsv','CtrlAll_Bilayer.tsv','CytodAll_Bilayer.tsv','JasplaAll_Bilayer.tsv']\n",
    "fileY = ['ColchAll_Y.np.txt','CtrlAll_Y.np.txt','CytodAll_Y.np.txt','JasplaAll_Y.np.txt']\n",
    "from scipy.stats import kruskal,f_oneway\n",
    "%matplotlib"
   ]
  },
  {
   "cell_type": "code",
   "execution_count": 57,
   "metadata": {},
   "outputs": [],
   "source": [
    "bilayer=[]\n",
    "for f in files:\n",
    "    bilayer.append(np.loadtxt('data_b3/'+f,skiprows=1))\n",
    "Ys=[]\n",
    "for f in fileY:\n",
    "    Ys.append(np.loadtxt('data_b3/'+f))\n",
    "E0 = {'CTRL':bilayer[1][:,0],'Colchicine':bilayer[0][:,0],'CytoD':bilayer[2][:,0],'Jaspla':bilayer[3][:,0]}\n",
    "Eb = {'CTRL':bilayer[1][:,1],'Colchicine':bilayer[0][:,1],'CytoD':bilayer[2][:,1],'Jaspla':bilayer[3][:,1]}\n",
    "d0 = {'CTRL':bilayer[1][:,2],'Colchicine':bilayer[0][:,2],'CytoD':bilayer[2][:,2],'Jaspla':bilayer[3][:,2]}\n",
    "Y  = {'CTRL':Ys[1],'Colchicine':Ys[0],'CytoD':Ys[2],'Jaspla':Ys[3]}"
   ]
  },
  {
   "cell_type": "code",
   "execution_count": 58,
   "metadata": {},
   "outputs": [
    {
     "data": {
      "text/plain": [
       "Text(0.5, 0, 'Thickness [nm]')"
      ]
     },
     "execution_count": 58,
     "metadata": {},
     "output_type": "execute_result"
    }
   ],
   "source": [
    "plt.subplot(141)\n",
    "for k in Y:\n",
    "    y,x = np.histogram(Y[k],range=(0,10000),bins=30,density=True)\n",
    "    x = (x[1:]+x[:-1])/2\n",
    "    plt.plot(x,y,label=k,alpha=1)\n",
    "plt.legend()\n",
    "plt.title('Hertz model $Y$')\n",
    "plt.xlabel('Elasticity [Pa]')\n",
    "plt.subplot(142)\n",
    "for k in E0:\n",
    "    y,x = np.histogram(E0[k],range=(0,30000),bins=30,density=True)\n",
    "    x = (x[1:]+x[:-1])/2\n",
    "    plt.plot(x,y,label=k,alpha=1)\n",
    "plt.legend()\n",
    "plt.title('Cortex elasticity $E_0$')\n",
    "plt.xlabel('Elasticity [Pa]')\n",
    "plt.subplot(143)\n",
    "for k in Eb:\n",
    "    y,x = np.histogram(Eb[k],range=(0,10000),bins=30,density=True)\n",
    "    x = (x[1:]+x[:-1])/2\n",
    "    plt.plot(x,y,label=k,alpha=1)\n",
    "plt.legend()\n",
    "plt.title('Bulk elasticity $E_b$')\n",
    "plt.xlabel('Elasticity [Pa]')\n",
    "plt.subplot(144)\n",
    "for k in d0:\n",
    "    y,x = np.histogram(d0[k],range=(0,1000),bins=30,density=True)\n",
    "    x = (x[1:]+x[:-1])/2\n",
    "    plt.plot(x,y,label=k,alpha=1)\n",
    "plt.legend()\n",
    "plt.title('Cortex Thickness $d_0$')\n",
    "plt.xlabel('Thickness [nm]')"
   ]
  },
  {
   "cell_type": "code",
   "execution_count": 59,
   "metadata": {},
   "outputs": [
    {
     "data": {
      "text/plain": [
       "Text(0, 0.5, 'Thickness [nm]')"
      ]
     },
     "execution_count": 59,
     "metadata": {},
     "output_type": "execute_result"
    }
   ],
   "source": [
    "names = []\n",
    "plt.subplot(141)\n",
    "avg=[]\n",
    "std=[]\n",
    "for k in Y:\n",
    "    names.append(k)\n",
    "    avg.append(np.average(Y[k]))\n",
    "    std.append(np.std(Y[k]))\n",
    "plt.bar([0,1,2,3],avg, tick_label=names, yerr=std)\n",
    "plt.title('Hertz model $Y$')\n",
    "plt.ylabel('Elasticity [Pa]')\n",
    "\n",
    "plt.subplot(142)\n",
    "avg=[]\n",
    "std=[]\n",
    "for k in E0:\n",
    "    ar = E0[k][E0[k]<30000]\n",
    "    ar = ar[ar>0]\n",
    "    avg.append(np.average(ar))\n",
    "    std.append(np.std(ar))\n",
    "plt.bar([0,1,2,3],avg, tick_label=names, yerr=std)\n",
    "plt.title('Cortex elasticity $E_0$')\n",
    "plt.ylabel('Elasticity [Pa]')\n",
    "\n",
    "\n",
    "plt.subplot(143)\n",
    "avg=[]\n",
    "std=[]\n",
    "for k in Eb:\n",
    "    ar = Eb[k][Eb[k]<10000]\n",
    "    ar = ar[ar>0]\n",
    "    avg.append(np.average(ar))\n",
    "    std.append(np.std(ar))\n",
    "plt.bar([0,1,2,3],avg, tick_label=names, yerr=std)\n",
    "plt.title('Bulk elasticity $E_b$')\n",
    "plt.ylabel('Elasticity [Pa]')\n",
    "\n",
    "plt.subplot(144)\n",
    "avg=[]\n",
    "std=[]\n",
    "for k in d0:\n",
    "    ar = d0[k][d0[k]<10000]\n",
    "    ar = ar[ar>0]\n",
    "    avg.append(np.average(ar))\n",
    "    std.append(np.std(ar))\n",
    "plt.bar([0,1,2,3],avg, tick_label=names, yerr=std)\n",
    "plt.title('Cortex Thickness $d_0$')\n",
    "plt.ylabel('Thickness [nm]')"
   ]
  },
  {
   "cell_type": "code",
   "execution_count": 136,
   "metadata": {},
   "outputs": [
    {
     "data": {
      "text/plain": [
       "Text(0, 0.5, 'Thickness [nm]')"
      ]
     },
     "execution_count": 136,
     "metadata": {},
     "output_type": "execute_result"
    }
   ],
   "source": [
    "names = []\n",
    "threshold = 0.001\n",
    "outlayer = True\n",
    "maxi = [100000,100000,10000]\n",
    "stat = f_oneway\n",
    "\n",
    "nonames = []\n",
    "for k in Y:\n",
    "    if k != 'CTRL':\n",
    "        nonames.append(k)\n",
    "    names.append(k)\n",
    "    \n",
    "plt.subplot(141)\n",
    "ctrl = np.average(Y['CTRL'])\n",
    "plt.bar([0,1,2,3],[ctrl,0,0,0], tick_label=names,color='g')\n",
    "i=1\n",
    "for k in nonames:\n",
    "    avg = np.average(Y[k])\n",
    "    kru = stat(Y[k],Y['CTRL'])\n",
    "    color='g'\n",
    "    if kru.pvalue<=threshold:\n",
    "        color='r'\n",
    "    plt.bar([i],avg, color=color)\n",
    "    plt.text(i, 100, kru.pvalue, rotation=90)\n",
    "    i+=1\n",
    "plt.title('Hertz model $Y$')\n",
    "plt.ylabel('Elasticity [Pa]')\n",
    "\n",
    "plt.subplot(142)\n",
    "ct = E0['CTRL'][E0['CTRL']<maxi[0]]\n",
    "ct = ct[ct>0]\n",
    "plt.bar([0,1,2,3],[np.average(ct),0,0,0], tick_label=names,color='g')\n",
    "i=1\n",
    "for k in nonames:\n",
    "    ar = E0[k][E0[k]<maxi[0]]\n",
    "    ar = ar[ar>0]\n",
    "    if outlayer is False:\n",
    "        ar = E0[k]\n",
    "    kru = stat(ar,ct)\n",
    "    color='g'\n",
    "    if kru.pvalue<=threshold:\n",
    "        color='r'\n",
    "    plt.bar([i],np.average(ar),color=color)\n",
    "    plt.text(i, 300, kru.pvalue, rotation=90)\n",
    "    i+=1\n",
    "plt.title('Cortex elasticity $E_0$')\n",
    "plt.ylabel('Elasticity [Pa]')\n",
    "\n",
    "\n",
    "plt.subplot(143)\n",
    "ct = Eb['CTRL'][Eb['CTRL']<maxi[1]]\n",
    "ct = ct[ct>0]\n",
    "plt.bar([0,1,2,3],[np.average(ct),0,0,0], tick_label=names,color='g')\n",
    "i=1\n",
    "for k in nonames:\n",
    "    ar = Eb[k][Eb[k]<maxi[1]]\n",
    "    ar = ar[ar>0]\n",
    "    if outlayer is False:\n",
    "        ar = Eb[k]\n",
    "    kru = stat(ar,ct)\n",
    "    color='g'\n",
    "    if kru.pvalue<=threshold:\n",
    "        color='r'\n",
    "    plt.bar([i],np.average(ar),color=color)\n",
    "    plt.text(i, 100, kru.pvalue, rotation=90)\n",
    "    i+=1\n",
    "plt.title('Bulk elasticity $E_b$')\n",
    "plt.ylabel('Elasticity [Pa]')\n",
    "\n",
    "plt.subplot(144)\n",
    "ct = d0['CTRL'][d0['CTRL']<maxi[2]]\n",
    "ct = ct[ct>0]\n",
    "plt.bar([0,1,2,3],[np.average(ct),0,0,0], tick_label=names,color='g')\n",
    "i=1\n",
    "for k in nonames:\n",
    "    ar = d0[k][d0[k]<maxi[2]]\n",
    "    ar = ar[ar>0]\n",
    "    if outlayer is False:\n",
    "        ar = d0[k]\n",
    "    kru = stat(ar,ct)\n",
    "    color='g'\n",
    "    if kru.pvalue<=threshold:\n",
    "        color='r'\n",
    "    plt.bar([i],np.average(ar),color=color)\n",
    "    plt.text(i, 10, kru.pvalue, rotation=90)\n",
    "    i+=1\n",
    "plt.title('Cortex Thickness $d_0$')\n",
    "plt.ylabel('Thickness [nm]')"
   ]
  },
  {
   "cell_type": "code",
   "execution_count": 134,
   "metadata": {},
   "outputs": [
    {
     "data": {
      "text/plain": [
       "(0.25, 4.75)"
      ]
     },
     "execution_count": 134,
     "metadata": {},
     "output_type": "execute_result"
    }
   ],
   "source": [
    "labels = []\n",
    "maxi = [30000,30000,3000]\n",
    "for k in Y:\n",
    "    labels.append(k)\n",
    "    \n",
    "ax=plt.subplot(141)\n",
    "dist=[]\n",
    "for k in Y:\n",
    "    dist.append(Y[k])\n",
    "ax.violinplot(dist,positions=[1,2,3,4],showmeans=True)\n",
    "plt.title('Hertz model $Y$')\n",
    "plt.ylabel('Elasticity [Pa]')\n",
    "ax.get_xaxis().set_tick_params(direction='out')\n",
    "ax.xaxis.set_ticks_position('bottom')\n",
    "ax.set_xticks(np.arange(1, len(labels) + 1))\n",
    "ax.set_xticklabels(labels)\n",
    "ax.set_xlim(0.25, len(labels) + 0.75)\n",
    "    \n",
    "    \n",
    "ax=plt.subplot(142)\n",
    "dist=[]\n",
    "for k in Y:\n",
    "    ar = E0[k][E0[k]<maxi[0]]\n",
    "    ar = ar[ar>0]\n",
    "    dist.append(ar)\n",
    "ax.violinplot(dist,positions=[1,2,3,4],showmeans=True)\n",
    "plt.title('Cortex elasticity $E_0$')\n",
    "plt.ylabel('Elasticity [Pa]')\n",
    "ax.get_xaxis().set_tick_params(direction='out')\n",
    "ax.xaxis.set_ticks_position('bottom')\n",
    "ax.set_xticks(np.arange(1, len(labels) + 1))\n",
    "ax.set_xticklabels(labels)\n",
    "ax.set_xlim(0.25, len(labels) + 0.75)\n",
    "\n",
    "\n",
    "ax=plt.subplot(143)\n",
    "dist=[]\n",
    "for k in Y:\n",
    "    ar = Eb[k][Eb[k]<maxi[1]]\n",
    "    ar = ar[ar>0]\n",
    "    dist.append(ar)\n",
    "ax.violinplot(dist,positions=[1,2,3,4],showmeans=True)\n",
    "plt.title('Bulk elasticity $E_b$')\n",
    "plt.ylabel('Elasticity [Pa]')\n",
    "ax.get_xaxis().set_tick_params(direction='out')\n",
    "ax.xaxis.set_ticks_position('bottom')\n",
    "ax.set_xticks(np.arange(1, len(labels) + 1))\n",
    "ax.set_xticklabels(labels)\n",
    "ax.set_xlim(0.25, len(labels) + 0.75)\n",
    "\n",
    "\n",
    "\n",
    "ax=plt.subplot(144)\n",
    "dist=[]\n",
    "for k in Y:\n",
    "    ar = d0[k][d0[k]<maxi[2]]\n",
    "    ar = ar[ar>0]\n",
    "    dist.append(ar)\n",
    "ax.violinplot(dist,positions=[1,2,3,4],showmeans=True)\n",
    "plt.title('Cortex Thickness $d_0$')\n",
    "plt.ylabel('Thickness [nm]')\n",
    "ax.get_xaxis().set_tick_params(direction='out')\n",
    "ax.xaxis.set_ticks_position('bottom')\n",
    "ax.set_xticks(np.arange(1, len(labels) + 1))\n",
    "ax.set_xticklabels(labels)\n",
    "ax.set_xlim(0.25, len(labels) + 0.75)"
   ]
  },
  {
   "cell_type": "code",
   "execution_count": null,
   "metadata": {},
   "outputs": [],
   "source": []
  },
  {
   "cell_type": "code",
   "execution_count": null,
   "metadata": {},
   "outputs": [],
   "source": []
  }
 ],
 "metadata": {
  "kernelspec": {
   "display_name": "Python 3",
   "language": "python",
   "name": "python3"
  },
  "language_info": {
   "codemirror_mode": {
    "name": "ipython",
    "version": 3
   },
   "file_extension": ".py",
   "mimetype": "text/x-python",
   "name": "python",
   "nbconvert_exporter": "python",
   "pygments_lexer": "ipython3",
   "version": "3.7.6"
  }
 },
 "nbformat": 4,
 "nbformat_minor": 4
}
